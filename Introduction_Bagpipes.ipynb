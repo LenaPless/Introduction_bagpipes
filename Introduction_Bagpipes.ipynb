{
  "nbformat": 4,
  "nbformat_minor": 0,
  "metadata": {
    "colab": {
      "provenance": [],
      "mount_file_id": "17YpEH2jVn7X34WFV32H9Ogo-LNzIXZBy",
      "authorship_tag": "ABX9TyODVAODvQAWm21tHAkyh0fa",
      "include_colab_link": true
    },
    "kernelspec": {
      "name": "python3",
      "display_name": "Python 3"
    },
    "language_info": {
      "name": "python"
    }
  },
  "cells": [
    {
      "cell_type": "markdown",
      "metadata": {
        "id": "view-in-github",
        "colab_type": "text"
      },
      "source": [
        "<a href=\"https://colab.research.google.com/github/LenaPless/Introduction_bagpipes/blob/main/Introduction_Bagpipes.ipynb\" target=\"_parent\"><img src=\"https://colab.research.google.com/assets/colab-badge.svg\" alt=\"Open In Colab\"/></a>"
      ]
    },
    {
      "cell_type": "code",
      "execution_count": 2,
      "metadata": {
        "colab": {
          "base_uri": "https://localhost:8080/"
        },
        "id": "dfwYDM23t3_w",
        "outputId": "1c5b5fac-aef4-4285-f42c-0d1c0cc7d702"
      },
      "outputs": [
        {
          "output_type": "stream",
          "name": "stdout",
          "text": [
            "Requirement already satisfied: PyMultiNest in /usr/local/lib/python3.10/dist-packages (2.12)\n",
            "Requirement already satisfied: bagpipes in /usr/local/lib/python3.10/dist-packages (1.2.0)\n",
            "Requirement already satisfied: numpy in /usr/local/lib/python3.10/dist-packages (from bagpipes) (1.26.4)\n",
            "Requirement already satisfied: corner in /usr/local/lib/python3.10/dist-packages (from bagpipes) (2.2.2)\n",
            "Requirement already satisfied: pymultinest>=2.11 in /usr/local/lib/python3.10/dist-packages (from bagpipes) (2.12)\n",
            "Requirement already satisfied: h5py in /usr/local/lib/python3.10/dist-packages (from bagpipes) (3.11.0)\n",
            "Requirement already satisfied: pandas in /usr/local/lib/python3.10/dist-packages (from bagpipes) (2.1.4)\n",
            "Requirement already satisfied: astropy in /usr/local/lib/python3.10/dist-packages (from bagpipes) (6.1.2)\n",
            "Requirement already satisfied: matplotlib>=2.2.2 in /usr/local/lib/python3.10/dist-packages (from bagpipes) (3.7.1)\n",
            "Requirement already satisfied: scipy in /usr/local/lib/python3.10/dist-packages (from bagpipes) (1.13.1)\n",
            "Requirement already satisfied: msgpack in /usr/local/lib/python3.10/dist-packages (from bagpipes) (1.0.8)\n",
            "Requirement already satisfied: spectres in /usr/local/lib/python3.10/dist-packages (from bagpipes) (2.2.0)\n",
            "Requirement already satisfied: nautilus-sampler>=1.0.2 in /usr/local/lib/python3.10/dist-packages (from bagpipes) (1.0.4)\n",
            "Requirement already satisfied: contourpy>=1.0.1 in /usr/local/lib/python3.10/dist-packages (from matplotlib>=2.2.2->bagpipes) (1.2.1)\n",
            "Requirement already satisfied: cycler>=0.10 in /usr/local/lib/python3.10/dist-packages (from matplotlib>=2.2.2->bagpipes) (0.12.1)\n",
            "Requirement already satisfied: fonttools>=4.22.0 in /usr/local/lib/python3.10/dist-packages (from matplotlib>=2.2.2->bagpipes) (4.53.1)\n",
            "Requirement already satisfied: kiwisolver>=1.0.1 in /usr/local/lib/python3.10/dist-packages (from matplotlib>=2.2.2->bagpipes) (1.4.5)\n",
            "Requirement already satisfied: packaging>=20.0 in /usr/local/lib/python3.10/dist-packages (from matplotlib>=2.2.2->bagpipes) (24.1)\n",
            "Requirement already satisfied: pillow>=6.2.0 in /usr/local/lib/python3.10/dist-packages (from matplotlib>=2.2.2->bagpipes) (9.4.0)\n",
            "Requirement already satisfied: pyparsing>=2.3.1 in /usr/local/lib/python3.10/dist-packages (from matplotlib>=2.2.2->bagpipes) (3.1.2)\n",
            "Requirement already satisfied: python-dateutil>=2.7 in /usr/local/lib/python3.10/dist-packages (from matplotlib>=2.2.2->bagpipes) (2.8.2)\n",
            "Requirement already satisfied: scikit-learn>=0.22.0 in /usr/local/lib/python3.10/dist-packages (from nautilus-sampler>=1.0.2->bagpipes) (1.3.2)\n",
            "Requirement already satisfied: threadpoolctl>=3.0.0 in /usr/local/lib/python3.10/dist-packages (from nautilus-sampler>=1.0.2->bagpipes) (3.5.0)\n",
            "Requirement already satisfied: pyerfa>=2.0.1.1 in /usr/local/lib/python3.10/dist-packages (from astropy->bagpipes) (2.0.1.4)\n",
            "Requirement already satisfied: astropy-iers-data>=0.2024.7.1.0.34.3 in /usr/local/lib/python3.10/dist-packages (from astropy->bagpipes) (0.2024.7.29.0.32.7)\n",
            "Requirement already satisfied: PyYAML>=3.13 in /usr/local/lib/python3.10/dist-packages (from astropy->bagpipes) (6.0.1)\n",
            "Requirement already satisfied: pytz>=2020.1 in /usr/local/lib/python3.10/dist-packages (from pandas->bagpipes) (2024.1)\n",
            "Requirement already satisfied: tzdata>=2022.1 in /usr/local/lib/python3.10/dist-packages (from pandas->bagpipes) (2024.1)\n",
            "Requirement already satisfied: six>=1.5 in /usr/local/lib/python3.10/dist-packages (from python-dateutil>=2.7->matplotlib>=2.2.2->bagpipes) (1.16.0)\n",
            "Requirement already satisfied: joblib>=1.1.1 in /usr/local/lib/python3.10/dist-packages (from scikit-learn>=0.22.0->nautilus-sampler>=1.0.2->bagpipes) (1.4.2)\n"
          ]
        }
      ],
      "source": [
        "import numpy as np\n",
        "import pandas as pd\n",
        "\n",
        "!pip install bagpipes\n",
        "import bagpipes as pipes\n",
        "\n",
        "from glob import glob\n",
        "from natsort import natsorted"
      ]
    },
    {
      "cell_type": "code",
      "source": [
        "cat = pd.read_csv('phot_cat_bagpipes.csv', index_col=0)\n",
        "\n",
        "print(cat)"
      ],
      "metadata": {
        "colab": {
          "base_uri": "https://localhost:8080/"
        },
        "id": "SbxYYfVMuABB",
        "outputId": "ca028dd2-59ba-41bc-b399-c2eac19f8079"
      },
      "execution_count": 5,
      "outputs": [
        {
          "output_type": "stream",
          "name": "stdout",
          "text": [
            "         ra        dec  clearp-f356w_tot_1  clearp-f356w_etot_1  \\\n",
            "0  3.542888 -30.382135               -99.0                -99.0   \n",
            "1  3.533203 -30.370054               -99.0                -99.0   \n",
            "\n",
            "   clearp-f444w_tot_1  clearp-f444w_etot_1  f090w_tot_1  f090w_etot_1  \\\n",
            "0               -99.0                -99.0   -99.000000    -99.000000   \n",
            "1               -99.0                -99.0    42.593268      0.030566   \n",
            "\n",
            "   f105w_tot_1  f105w_etot_1  ...  f444w_etot_1  f475w_tot_1  f475w_etot_1  \\\n",
            "0        -99.0         -99.0  ...      0.009391        -99.0         -99.0   \n",
            "1        -99.0         -99.0  ...      0.032421        -99.0         -99.0   \n",
            "\n",
            "   f606w_tot_1  f606w_etot_1  f775w_tot_1  f775w_etot_1  f814w_tot_1  \\\n",
            "0     2.825795      0.035643        -99.0         -99.0     4.537090   \n",
            "1    15.481574      0.035312        -99.0         -99.0    36.706961   \n",
            "\n",
            "   f814w_etot_1  z_spec  \n",
            "0      0.039546  -1.000  \n",
            "1      0.043568   0.314  \n",
            "\n",
            "[2 rows x 47 columns]\n"
          ]
        }
      ]
    },
    {
      "cell_type": "code",
      "source": [
        "def load_photometry(id):\n",
        "\n",
        "    flux = cat.iloc[[id]].filter(like='_tot_1').values.tolist()[0]\n",
        "    fluxerr = cat.iloc[[id]].filter(like='_etot_1').values.tolist()[0]\n",
        "\n",
        "    flux = [x if x>=0 else 0 for x in flux]\n",
        "    fluxerr = [x if x>=0 else 1e20 for x in fluxerr]\n",
        "\n",
        "    photometry = 1e-2*np.c_[flux, fluxerr]\n",
        "\n",
        "    return photometry"
      ],
      "metadata": {
        "id": "RfnDzCYcvBxa"
      },
      "execution_count": 6,
      "outputs": []
    },
    {
      "cell_type": "code",
      "source": [
        "def burst():\n",
        "    sfh = {}\n",
        "\n",
        "    sfh['age'] = (0.1, 15.)\n",
        "    sfh['massformed'] = (0., 14.)\n",
        "    sfh['metallicity'] = (0.2, 2.)\n",
        "    sfh['metallicity_prior'] = 'log_10'\n",
        "\n",
        "    dust = {}\n",
        "    dust['type'] = 'Calzetti'\n",
        "    dust['Av'] = (0., 2.)\n",
        "\n",
        "    nebular = {}\n",
        "    nebular['logU'] = (-3., -1.)\n",
        "\n",
        "    fit_instructions = {}\n",
        "    fit_instructions['burst'] = sfh\n",
        "    fit_instructions['dust'] = dust\n",
        "    fit_instructions['nebular'] = nebular\n",
        "    fit_instructions['redshift'] = (0., 1.)\n",
        "\n",
        "    return fit_instructions"
      ],
      "metadata": {
        "id": "O9krc3SzvIb1"
      },
      "execution_count": 7,
      "outputs": []
    },
    {
      "cell_type": "code",
      "source": [
        "def const():\n",
        "    sfh = {}\n",
        "\n",
        "    sfh['age'] = (0.1, 15.)\n",
        "    sfh['massformed'] = (0., 14.)\n",
        "    sfh['metallicity'] = (0.2, 2.)\n",
        "    sfh['metallicity_prior'] = 'log_10'\n",
        "    sfh['age_max'] = (0.1, 15.)\n",
        "    sfh['age_min'] = (0.1, 15.)\n",
        "\n",
        "    dust = {}\n",
        "    dust['type'] = 'Calzetti'\n",
        "    dust['Av'] = (0., 2.)\n",
        "\n",
        "    nebular = {}\n",
        "    nebular['logU'] = (-3., -1.)\n",
        "\n",
        "    fit_instructions = {}\n",
        "    fit_instructions['constant'] = sfh\n",
        "    fit_instructions['dust'] = dust\n",
        "    fit_instructions['nebular'] = nebular\n",
        "    fit_instructions['redshift'] = (0., 1.)\n",
        "\n",
        "    return fit_instructions"
      ],
      "metadata": {
        "id": "GngCRYzAvLBE"
      },
      "execution_count": 8,
      "outputs": []
    },
    {
      "cell_type": "code",
      "source": [
        "def exp():\n",
        "    sfh = {}\n",
        "\n",
        "    sfh['age'] = (0.1, 15.)\n",
        "    sfh['massformed'] = (0., 14.)\n",
        "    sfh['metallicity'] = (0.2, 2.)\n",
        "    sfh['tau'] = (0.01, 1.)\n",
        "\n",
        "    dust = {}\n",
        "    dust['type'] = 'Calzetti'\n",
        "    dust['Av'] = (0., 2.)\n",
        "\n",
        "    nebular = {}\n",
        "    nebular['logU'] = (-3., -1.)\n",
        "\n",
        "    fit_instructions = {}\n",
        "    fit_instructions['exponential'] = sfh\n",
        "    fit_instructions['dust'] = dust\n",
        "    fit_instructions['nebular'] = nebular\n",
        "    fit_instructions['redshift'] = (0., 1.)\n",
        "\n",
        "    return fit_instructions"
      ],
      "metadata": {
        "id": "BIUyoYxxvNYM"
      },
      "execution_count": 9,
      "outputs": []
    },
    {
      "cell_type": "code",
      "source": [
        "filt_list = natsorted(glob('filters/*.dat'))"
      ],
      "metadata": {
        "id": "p0TtcOCNvRJb"
      },
      "execution_count": 10,
      "outputs": []
    },
    {
      "cell_type": "code",
      "source": [
        "IDs = [0, 1]\n",
        "\n",
        "fit = pipes.fit_catalogue(IDs, burst(), load_photometry, spectrum_exists=False, run='intro_bagpipes_burst', cat_filt_list=filt_list, make_plots=True, full_catalogue=True)\n",
        "fit.fit(verbose=False)"
      ],
      "metadata": {
        "colab": {
          "base_uri": "https://localhost:8080/"
        },
        "id": "WdbU8Eg1vZTb",
        "outputId": "6ba49d7b-4023-45e4-c857-e573968e35cb"
      },
      "execution_count": 11,
      "outputs": [
        {
          "output_type": "stream",
          "name": "stdout",
          "text": [
            "MultiNest not available. Switching to nautilus.\n",
            "\n",
            "Bagpipes: fitting object 0\n",
            "\n",
            "\n",
            "Completed in 435.8 seconds.\n",
            "\n",
            "Parameter                          Posterior percentiles\n",
            "                                16th       50th       84th\n",
            "----------------------------------------------------------\n",
            "burst:age                      0.370      0.400      0.429\n",
            "burst:massformed               7.263      7.265      7.268\n",
            "burst:metallicity              1.758      1.780      1.802\n",
            "dust:Av                        0.544      0.553      0.562\n",
            "nebular:logU                  -2.688     -2.007     -1.333\n",
            "redshift                       0.382      0.384      0.385\n",
            "\n",
            "\n"
          ]
        },
        {
          "output_type": "stream",
          "name": "stderr",
          "text": [
            "/usr/local/lib/python3.10/dist-packages/bagpipes/models/star_formation_history.py:131: RuntimeWarning: divide by zero encountered in log10\n",
            "  self.ssfr = np.log10(self.sfr) - self.stellar_mass\n",
            "/usr/local/lib/python3.10/dist-packages/bagpipes/models/star_formation_history.py:132: RuntimeWarning: divide by zero encountered in log10\n",
            "  self.nsfr = np.log10(self.sfr*self.age_of_universe) - self.formed_mass\n",
            "/usr/local/lib/python3.10/dist-packages/bagpipes/models/star_formation_history.py:131: RuntimeWarning: divide by zero encountered in log10\n",
            "  self.ssfr = np.log10(self.sfr) - self.stellar_mass\n",
            "/usr/local/lib/python3.10/dist-packages/bagpipes/models/star_formation_history.py:132: RuntimeWarning: divide by zero encountered in log10\n",
            "  self.nsfr = np.log10(self.sfr*self.age_of_universe) - self.formed_mass\n",
            "/usr/local/lib/python3.10/dist-packages/bagpipes/plotting/plot_1d_posterior.py:55: RuntimeWarning: divide by zero encountered in log10\n",
            "  samples = np.log10(samples)\n",
            "/usr/local/lib/python3.10/dist-packages/numpy/lib/function_base.py:4655: RuntimeWarning: invalid value encountered in subtract\n",
            "  diff_b_a = subtract(b, a)\n",
            "WARNING: VerifyWarning: It is strongly recommended that column names contain only upper and lower-case ASCII letters, digits, or underscores for maximum compatibility with other software (got '#ID'). [astropy.io.fits.column]\n",
            "WARNING:astropy:VerifyWarning: It is strongly recommended that column names contain only upper and lower-case ASCII letters, digits, or underscores for maximum compatibility with other software (got '#ID').\n"
          ]
        },
        {
          "output_type": "stream",
          "name": "stdout",
          "text": [
            "Bagpipes: 1 out of 2 objects completed.\n",
            "MultiNest not available. Switching to nautilus.\n",
            "\n",
            "Bagpipes: fitting object 1\n",
            "\n",
            "\n",
            "Completed in 505.7 seconds.\n",
            "\n",
            "Parameter                          Posterior percentiles\n",
            "                                16th       50th       84th\n",
            "----------------------------------------------------------\n",
            "burst:age                      3.725      4.005      4.295\n",
            "burst:massformed               8.653      8.654      8.655\n",
            "burst:metallicity              1.553      1.559      1.564\n",
            "dust:Av                        0.146      0.147      0.149\n",
            "nebular:logU                  -2.694     -2.026     -1.335\n",
            "redshift                       0.296      0.297      0.297\n",
            "\n",
            "\n"
          ]
        },
        {
          "output_type": "stream",
          "name": "stderr",
          "text": [
            "/usr/local/lib/python3.10/dist-packages/bagpipes/models/star_formation_history.py:131: RuntimeWarning: divide by zero encountered in log10\n",
            "  self.ssfr = np.log10(self.sfr) - self.stellar_mass\n",
            "/usr/local/lib/python3.10/dist-packages/bagpipes/models/star_formation_history.py:132: RuntimeWarning: divide by zero encountered in log10\n",
            "  self.nsfr = np.log10(self.sfr*self.age_of_universe) - self.formed_mass\n",
            "/usr/local/lib/python3.10/dist-packages/bagpipes/plotting/plot_1d_posterior.py:55: RuntimeWarning: divide by zero encountered in log10\n",
            "  samples = np.log10(samples)\n",
            "/usr/local/lib/python3.10/dist-packages/numpy/lib/function_base.py:4655: RuntimeWarning: invalid value encountered in subtract\n",
            "  diff_b_a = subtract(b, a)\n",
            "WARNING: VerifyWarning: It is strongly recommended that column names contain only upper and lower-case ASCII letters, digits, or underscores for maximum compatibility with other software (got '#ID'). [astropy.io.fits.column]\n",
            "WARNING:astropy:VerifyWarning: It is strongly recommended that column names contain only upper and lower-case ASCII letters, digits, or underscores for maximum compatibility with other software (got '#ID').\n"
          ]
        },
        {
          "output_type": "stream",
          "name": "stdout",
          "text": [
            "Bagpipes: 2 out of 2 objects completed.\n"
          ]
        }
      ]
    },
    {
      "cell_type": "code",
      "source": [],
      "metadata": {
        "id": "hBrxss0hveNZ"
      },
      "execution_count": null,
      "outputs": []
    }
  ]
}